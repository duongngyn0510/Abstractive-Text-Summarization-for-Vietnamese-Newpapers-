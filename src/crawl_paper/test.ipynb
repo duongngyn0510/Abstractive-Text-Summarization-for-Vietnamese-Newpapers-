{
 "cells": [
  {
   "cell_type": "code",
   "execution_count": 6,
   "metadata": {},
   "outputs": [],
   "source": [
    "import pandas as pd\n",
    "import os\n",
    "from bs4 import BeautifulSoup\n",
    "import csv, json"
   ]
  },
  {
   "cell_type": "code",
   "execution_count": 10,
   "metadata": {},
   "outputs": [],
   "source": [
    "all_files = os.listdir('raw_vietnamnet/kinh-doanh/')\n",
    "import csv, json\n",
    "all_fields = [\"url\",\"title\",\"abstract\",\"content_html\"]\n",
    "\n",
    "\n",
    "with open('data.csv', 'w', encoding='utf-8') as output_file:\n",
    "    writer = csv.DictWriter(output_file, all_fields)\n",
    "    writer.writeheader()\n",
    "\n",
    "    for file in all_files:\n",
    "        with open(os.path.join('raw_vietnamnet/kinh-doanh', file), 'r', encoding='utf-8') as in_file:\n",
    "            writer.writerow(json.load(in_file))"
   ]
  },
  {
   "cell_type": "code",
   "execution_count": null,
   "metadata": {},
   "outputs": [],
   "source": [
    "BeautifulSoup"
   ]
  },
  {
   "cell_type": "code",
   "execution_count": 32,
   "metadata": {},
   "outputs": [
    {
     "data": {
      "text/html": [
       "<div>\n",
       "<style scoped>\n",
       "    .dataframe tbody tr th:only-of-type {\n",
       "        vertical-align: middle;\n",
       "    }\n",
       "\n",
       "    .dataframe tbody tr th {\n",
       "        vertical-align: top;\n",
       "    }\n",
       "\n",
       "    .dataframe thead th {\n",
       "        text-align: right;\n",
       "    }\n",
       "</style>\n",
       "<table border=\"1\" class=\"dataframe\">\n",
       "  <thead>\n",
       "    <tr style=\"text-align: right;\">\n",
       "      <th></th>\n",
       "      <th>url</th>\n",
       "      <th>title</th>\n",
       "      <th>abstract</th>\n",
       "      <th>content_html</th>\n",
       "    </tr>\n",
       "  </thead>\n",
       "  <tbody>\n",
       "    <tr>\n",
       "      <th>0</th>\n",
       "      <td>https://vietnamnet.vn/som-huong-dan-ve-viec-ho...</td>\n",
       "      <td>Tài chính</td>\n",
       "      <td>Thủ tướng Chính phủ vừa có văn bản gửi đến Chá...</td>\n",
       "      <td>&lt;div&gt;\\r\\n                                &lt;p&gt;Vă...</td>\n",
       "    </tr>\n",
       "    <tr>\n",
       "      <th>1</th>\n",
       "      <td>https://vietnamnet.vn/nhu-cau-mua-xe-cu-giam-t...</td>\n",
       "      <td>Doanh nhân</td>\n",
       "      <td>Cổ phiếu lao dốc khiến cho khối tài sản của tỷ...</td>\n",
       "      <td>&lt;div&gt;\\r\\n                                &lt;p&gt;Th...</td>\n",
       "    </tr>\n",
       "    <tr>\n",
       "      <th>2</th>\n",
       "      <td>https://vietnamnet.vn/gia-vang-nhan-khong-ngun...</td>\n",
       "      <td>Tài chính</td>\n",
       "      <td>Giá vàng nhẫn hôm nay (15/11) tiếp đà tăng, lê...</td>\n",
       "      <td>&lt;div&gt;\\r\\n                                &lt;p&gt;Hô...</td>\n",
       "    </tr>\n",
       "    <tr>\n",
       "      <th>3</th>\n",
       "      <td>https://vietnamnet.vn/vinshop-dat-muc-tieu-so-...</td>\n",
       "      <td>Kinh Doanh</td>\n",
       "      <td>Tăng trưởng 80% trong năm qua, phủ 22 tỉnh thà...</td>\n",
       "      <td>&lt;div&gt;\\r\\n                                &lt;p&gt;&lt;s...</td>\n",
       "    </tr>\n",
       "    <tr>\n",
       "      <th>4</th>\n",
       "      <td>https://vietnamnet.vn/co-phieu-bat-dong-san-ca...</td>\n",
       "      <td>Tài chính</td>\n",
       "      <td>Cổ phiếu Vingroup của tỷ phú Phạm Nhật Vượng n...</td>\n",
       "      <td>&lt;div&gt;\\r\\n                                &lt;p&gt;Ch...</td>\n",
       "    </tr>\n",
       "    <tr>\n",
       "      <th>5</th>\n",
       "      <td>https://vietnamnet.vn/gia-vang-hom-nay-16-11-v...</td>\n",
       "      <td>Tài chính</td>\n",
       "      <td>Giá vàng hôm nay 16/11 trên thị trường thế giớ...</td>\n",
       "      <td>&lt;div&gt;\\r\\n                                &lt;h2&gt;&lt;...</td>\n",
       "    </tr>\n",
       "    <tr>\n",
       "      <th>6</th>\n",
       "      <td>https://vietnamnet.vn/phat-hanh-trai-phieu-doa...</td>\n",
       "      <td>Tài chính</td>\n",
       "      <td>Sau vụ việc sai phạm của Tân Hoàng Minh và Vạn...</td>\n",
       "      <td>&lt;div&gt;\\r\\n                                &lt;p&gt;Tạ...</td>\n",
       "    </tr>\n",
       "    <tr>\n",
       "      <th>7</th>\n",
       "      <td>https://vietnamnet.vn/ty-phu-jeff-bezos-tuyen-...</td>\n",
       "      <td>Doanh nhân</td>\n",
       "      <td>Tỷ phú Jeff Bezos, nhà sáng lập Công ty Amazon...</td>\n",
       "      <td>&lt;div&gt;\\r\\n                                &lt;p&gt;Mớ...</td>\n",
       "    </tr>\n",
       "    <tr>\n",
       "      <th>8</th>\n",
       "      <td>https://vietnamnet.vn/dai-cat-tim-khong-gian-s...</td>\n",
       "      <td>Kinh Doanh</td>\n",
       "      <td>Nhiều khách hàng đang tìm kiếm những căn hộ ca...</td>\n",
       "      <td>&lt;div&gt;\\r\\n                                &lt;p&gt;Nh...</td>\n",
       "    </tr>\n",
       "    <tr>\n",
       "      <th>9</th>\n",
       "      <td>https://vietnamnet.vn/thi-truong-bao-mon-tai-s...</td>\n",
       "      <td>Tài chính</td>\n",
       "      <td>Thị trường chứng khoán tiếp tục xu hướng đi xu...</td>\n",
       "      <td>&lt;div&gt;\\r\\n                                &lt;p&gt;Ôn...</td>\n",
       "    </tr>\n",
       "    <tr>\n",
       "      <th>10</th>\n",
       "      <td>https://vietnamnet.vn/tai-san-ba-ong-chu-shope...</td>\n",
       "      <td>Doanh nhân</td>\n",
       "      <td>Ba lãnh đạo của Shopee mất hơn 32 tỷ USD chỉ t...</td>\n",
       "      <td>&lt;div&gt;\\r\\n                                &lt;p&gt;Th...</td>\n",
       "    </tr>\n",
       "    <tr>\n",
       "      <th>11</th>\n",
       "      <td>https://vietnamnet.vn/do-mat-tim-ve-may-bay-gi...</td>\n",
       "      <td>Thị trường</td>\n",
       "      <td>Hiếm thấy vé giá rẻ trong tất cả chặng bay nội...</td>\n",
       "      <td>&lt;div&gt;\\r\\n                                &lt;p&gt;Vé...</td>\n",
       "    </tr>\n",
       "    <tr>\n",
       "      <th>12</th>\n",
       "      <td>https://vietnamnet.vn/cup-vang-the-gioi-qatar-...</td>\n",
       "      <td>Kinh Doanh</td>\n",
       "      <td>Hơn 5.000 chiếc \"cup vàng\" Qatar 2022 đã được ...</td>\n",
       "      <td>NaN</td>\n",
       "    </tr>\n",
       "    <tr>\n",
       "      <th>13</th>\n",
       "      <td>https://vietnamnet.vn/top-500-doanh-nghiep-lon...</td>\n",
       "      <td>Kinh Doanh</td>\n",
       "      <td>Ngày 15/11, Công ty Cổ phần Báo cáo Đánh giá V...</td>\n",
       "      <td>&lt;div&gt;\\r\\n                                &lt;p&gt;Bê...</td>\n",
       "    </tr>\n",
       "    <tr>\n",
       "      <th>14</th>\n",
       "      <td>https://vietnamnet.vn/tang-luong-co-so-chi-tie...</td>\n",
       "      <td>Tư vấn tài chính</td>\n",
       "      <td>Bảng lương công chức từ ngày 1/7/2023 theo mức...</td>\n",
       "      <td>&lt;div&gt;\\r\\n                                &lt;div ...</td>\n",
       "    </tr>\n",
       "    <tr>\n",
       "      <th>15</th>\n",
       "      <td>https://vietnamnet.vn/co-bao-nhieu-tien-thi-lo...</td>\n",
       "      <td>Doanh nhân</td>\n",
       "      <td>Tài sản trung bình của những người nằm trong t...</td>\n",
       "      <td>&lt;div&gt;\\r\\n                                &lt;div ...</td>\n",
       "    </tr>\n",
       "    <tr>\n",
       "      <th>16</th>\n",
       "      <td>https://vietnamnet.vn/tham-canh-dua-tren-dat-l...</td>\n",
       "      <td>Thị trường</td>\n",
       "      <td>Nông dân xã Tân Sơn, huyện Đô Lương, Nghệ An n...</td>\n",
       "      <td>&lt;div&gt;\\r\\n                                &lt;p&gt;Gi...</td>\n",
       "    </tr>\n",
       "    <tr>\n",
       "      <th>17</th>\n",
       "      <td>https://vietnamnet.vn/khat-vong-cua-masan-viet...</td>\n",
       "      <td>Kinh Doanh</td>\n",
       "      <td>Masan đề xuất Chính phủ xem xét, chấp thuận ch...</td>\n",
       "      <td>&lt;div&gt;\\r\\n                                &lt;p&gt;Tố...</td>\n",
       "    </tr>\n",
       "    <tr>\n",
       "      <th>18</th>\n",
       "      <td>https://vietnamnet.vn/sacombank-cam-ket-bao-da...</td>\n",
       "      <td>Kinh Doanh</td>\n",
       "      <td>Trước sự vụ cán bộ Phòng giao dịch Cam Ranh li...</td>\n",
       "      <td>&lt;div&gt;\\r\\n                                &lt;p&gt;Vừ...</td>\n",
       "    </tr>\n",
       "    <tr>\n",
       "      <th>19</th>\n",
       "      <td>https://vietnamnet.vn/cong-nhan-tai-8-tinh-tha...</td>\n",
       "      <td>Kinh Doanh</td>\n",
       "      <td>Công ty Tài chính TNHH HD Saison (thuộc HDBank...</td>\n",
       "      <td>&lt;div&gt;\\r\\n                                &lt;p&gt;Th...</td>\n",
       "    </tr>\n",
       "    <tr>\n",
       "      <th>20</th>\n",
       "      <td>https://vietnamnet.vn/tang-luong-nhom-thap-nha...</td>\n",
       "      <td>Tư vấn tài chính</td>\n",
       "      <td>Khi áp dụng mức lương cơ sở mới, công chức hạn...</td>\n",
       "      <td>&lt;div&gt;\\r\\n                                &lt;p&gt;Th...</td>\n",
       "    </tr>\n",
       "    <tr>\n",
       "      <th>21</th>\n",
       "      <td>https://vietnamnet.vn/tin-gia-co-the-lam-doanh...</td>\n",
       "      <td>Đầu tư</td>\n",
       "      <td>Theo đánh giá của các chuyên gia, tin giả như ...</td>\n",
       "      <td>&lt;div&gt;\\r\\n                                &lt;p&gt;Ch...</td>\n",
       "    </tr>\n",
       "    <tr>\n",
       "      <th>22</th>\n",
       "      <td>https://vietnamnet.vn/khong-phai-trai-cay-toi-...</td>\n",
       "      <td>Thị trường</td>\n",
       "      <td>Chỉ trong vòng 10 tháng năm nay, kim ngạch nhậ...</td>\n",
       "      <td>&lt;div&gt;\\r\\n                                &lt;p&gt;Th...</td>\n",
       "    </tr>\n",
       "    <tr>\n",
       "      <th>23</th>\n",
       "      <td>https://vietnamnet.vn/thu-tuong-jacinda-ardern...</td>\n",
       "      <td>Thị trường</td>\n",
       "      <td>New Zealand và Việt Nam là đối tác “trời sinh”...</td>\n",
       "      <td>&lt;div&gt;\\r\\n                                &lt;p&gt;Ch...</td>\n",
       "    </tr>\n",
       "    <tr>\n",
       "      <th>24</th>\n",
       "      <td>https://vietnamnet.vn/cuoc-do-bo-than-toc-cua-...</td>\n",
       "      <td>Premium</td>\n",
       "      <td>Không chỉ tràn sang thị trường Trung Quốc, kho...</td>\n",
       "      <td>NaN</td>\n",
       "    </tr>\n",
       "  </tbody>\n",
       "</table>\n",
       "</div>"
      ],
      "text/plain": [
       "                                                  url             title  \\\n",
       "0   https://vietnamnet.vn/som-huong-dan-ve-viec-ho...         Tài chính   \n",
       "1   https://vietnamnet.vn/nhu-cau-mua-xe-cu-giam-t...        Doanh nhân   \n",
       "2   https://vietnamnet.vn/gia-vang-nhan-khong-ngun...         Tài chính   \n",
       "3   https://vietnamnet.vn/vinshop-dat-muc-tieu-so-...        Kinh Doanh   \n",
       "4   https://vietnamnet.vn/co-phieu-bat-dong-san-ca...         Tài chính   \n",
       "5   https://vietnamnet.vn/gia-vang-hom-nay-16-11-v...         Tài chính   \n",
       "6   https://vietnamnet.vn/phat-hanh-trai-phieu-doa...         Tài chính   \n",
       "7   https://vietnamnet.vn/ty-phu-jeff-bezos-tuyen-...        Doanh nhân   \n",
       "8   https://vietnamnet.vn/dai-cat-tim-khong-gian-s...        Kinh Doanh   \n",
       "9   https://vietnamnet.vn/thi-truong-bao-mon-tai-s...         Tài chính   \n",
       "10  https://vietnamnet.vn/tai-san-ba-ong-chu-shope...        Doanh nhân   \n",
       "11  https://vietnamnet.vn/do-mat-tim-ve-may-bay-gi...        Thị trường   \n",
       "12  https://vietnamnet.vn/cup-vang-the-gioi-qatar-...        Kinh Doanh   \n",
       "13  https://vietnamnet.vn/top-500-doanh-nghiep-lon...        Kinh Doanh   \n",
       "14  https://vietnamnet.vn/tang-luong-co-so-chi-tie...  Tư vấn tài chính   \n",
       "15  https://vietnamnet.vn/co-bao-nhieu-tien-thi-lo...        Doanh nhân   \n",
       "16  https://vietnamnet.vn/tham-canh-dua-tren-dat-l...        Thị trường   \n",
       "17  https://vietnamnet.vn/khat-vong-cua-masan-viet...        Kinh Doanh   \n",
       "18  https://vietnamnet.vn/sacombank-cam-ket-bao-da...        Kinh Doanh   \n",
       "19  https://vietnamnet.vn/cong-nhan-tai-8-tinh-tha...        Kinh Doanh   \n",
       "20  https://vietnamnet.vn/tang-luong-nhom-thap-nha...  Tư vấn tài chính   \n",
       "21  https://vietnamnet.vn/tin-gia-co-the-lam-doanh...            Đầu tư   \n",
       "22  https://vietnamnet.vn/khong-phai-trai-cay-toi-...        Thị trường   \n",
       "23  https://vietnamnet.vn/thu-tuong-jacinda-ardern...        Thị trường   \n",
       "24  https://vietnamnet.vn/cuoc-do-bo-than-toc-cua-...           Premium   \n",
       "\n",
       "                                             abstract  \\\n",
       "0   Thủ tướng Chính phủ vừa có văn bản gửi đến Chá...   \n",
       "1   Cổ phiếu lao dốc khiến cho khối tài sản của tỷ...   \n",
       "2   Giá vàng nhẫn hôm nay (15/11) tiếp đà tăng, lê...   \n",
       "3   Tăng trưởng 80% trong năm qua, phủ 22 tỉnh thà...   \n",
       "4   Cổ phiếu Vingroup của tỷ phú Phạm Nhật Vượng n...   \n",
       "5   Giá vàng hôm nay 16/11 trên thị trường thế giớ...   \n",
       "6   Sau vụ việc sai phạm của Tân Hoàng Minh và Vạn...   \n",
       "7   Tỷ phú Jeff Bezos, nhà sáng lập Công ty Amazon...   \n",
       "8   Nhiều khách hàng đang tìm kiếm những căn hộ ca...   \n",
       "9   Thị trường chứng khoán tiếp tục xu hướng đi xu...   \n",
       "10  Ba lãnh đạo của Shopee mất hơn 32 tỷ USD chỉ t...   \n",
       "11  Hiếm thấy vé giá rẻ trong tất cả chặng bay nội...   \n",
       "12  Hơn 5.000 chiếc \"cup vàng\" Qatar 2022 đã được ...   \n",
       "13  Ngày 15/11, Công ty Cổ phần Báo cáo Đánh giá V...   \n",
       "14  Bảng lương công chức từ ngày 1/7/2023 theo mức...   \n",
       "15  Tài sản trung bình của những người nằm trong t...   \n",
       "16  Nông dân xã Tân Sơn, huyện Đô Lương, Nghệ An n...   \n",
       "17  Masan đề xuất Chính phủ xem xét, chấp thuận ch...   \n",
       "18  Trước sự vụ cán bộ Phòng giao dịch Cam Ranh li...   \n",
       "19  Công ty Tài chính TNHH HD Saison (thuộc HDBank...   \n",
       "20  Khi áp dụng mức lương cơ sở mới, công chức hạn...   \n",
       "21  Theo đánh giá của các chuyên gia, tin giả như ...   \n",
       "22  Chỉ trong vòng 10 tháng năm nay, kim ngạch nhậ...   \n",
       "23  New Zealand và Việt Nam là đối tác “trời sinh”...   \n",
       "24  Không chỉ tràn sang thị trường Trung Quốc, kho...   \n",
       "\n",
       "                                         content_html  \n",
       "0   <div>\\r\\n                                <p>Vă...  \n",
       "1   <div>\\r\\n                                <p>Th...  \n",
       "2   <div>\\r\\n                                <p>Hô...  \n",
       "3   <div>\\r\\n                                <p><s...  \n",
       "4   <div>\\r\\n                                <p>Ch...  \n",
       "5   <div>\\r\\n                                <h2><...  \n",
       "6   <div>\\r\\n                                <p>Tạ...  \n",
       "7   <div>\\r\\n                                <p>Mớ...  \n",
       "8   <div>\\r\\n                                <p>Nh...  \n",
       "9   <div>\\r\\n                                <p>Ôn...  \n",
       "10  <div>\\r\\n                                <p>Th...  \n",
       "11  <div>\\r\\n                                <p>Vé...  \n",
       "12                                                NaN  \n",
       "13  <div>\\r\\n                                <p>Bê...  \n",
       "14  <div>\\r\\n                                <div ...  \n",
       "15  <div>\\r\\n                                <div ...  \n",
       "16  <div>\\r\\n                                <p>Gi...  \n",
       "17  <div>\\r\\n                                <p>Tố...  \n",
       "18  <div>\\r\\n                                <p>Vừ...  \n",
       "19  <div>\\r\\n                                <p>Th...  \n",
       "20  <div>\\r\\n                                <p>Th...  \n",
       "21  <div>\\r\\n                                <p>Ch...  \n",
       "22  <div>\\r\\n                                <p>Th...  \n",
       "23  <div>\\r\\n                                <p>Ch...  \n",
       "24                                                NaN  "
      ]
     },
     "execution_count": 32,
     "metadata": {},
     "output_type": "execute_result"
    }
   ],
   "source": [
    "df = pd.read_csv('data.csv')\n",
    "df"
   ]
  },
  {
   "cell_type": "code",
   "execution_count": 28,
   "metadata": {},
   "outputs": [
    {
     "data": {
      "text/plain": [
       "'https://vietnamnet.vn/gia-vang-nhan-khong-ngung-tang-sat-moc-55-trieu-dong-luong-2080940.html'"
      ]
     },
     "execution_count": 28,
     "metadata": {},
     "output_type": "execute_result"
    }
   ],
   "source": [
    "df.iloc[2][0]"
   ]
  },
  {
   "cell_type": "code",
   "execution_count": 31,
   "metadata": {},
   "outputs": [
    {
     "data": {
      "text/plain": [
       "[<p>Hôm nay (15/11), giá vàng nhẫn tiếp đà tăng từ cuối tháng 10. Vào lúc 16h04' ngày 15/11, <a href=\"https://vietnamnet.vn/gia-vang-tag14642850852768478603.html\" target=\"_blank\">giá vàng nhẫn 9999</a> được Công ty Vàng bạc Đá quý Sài Gòn (SJC) niêm yết tại TP.HCM ở mức 53,8-54,8 triệu đồng/lượng, tăng 150 nghìn đồng so với ngày hôm qua (14/11).</p>,\n",
       " <p>Còn giá vàng nhẫn được Công ty Cổ phần Vàng bạc Đá quý Phú Nhuận (PNJ) cập nhật tại TP.HCM lúc 15h21' ngày 15/11 ở mức 53,9-54,9 triệu đồng/lượng, cao hơn 100 nghìn đồng so với ngày hôm qua.</p>,\n",
       " <p>So với ngày 4/11, giá vàng nhẫn của SJC đã tăng 2 triệu đồng/lượng mỗi chiều. Giá vàng nhẫn của PNJ hôm nay đắt hơn 2,1 triệu đồng/lượng ở cả hai chiều so với ngày 4/11.</p>,\n",
       " <p>Có thể thấy, sau một thời gian dài gần như đứng im, giá vàng nhẫn gần đây bật tăng mạnh. Riêng trong ngày 11/11, giá vàng nhẫn 9999 của SJC tăng tới 1,1 triệu đồng so với phiên trước đó. Giá vàng nhẫn hiện tăng lên sát mốc 55 triệu đồng/lượng (bán ra).</p>,\n",
       " <p>Theo lý giải của chủ một số tiệm vàng, sở dĩ giá vàng nhẫn gần đây tăng nhanh là do vàng nhẫn được nhiều người lựa chọn. Thời điểm này, nhu cầu mua sắm trang sức cho mùa cưới, làm đẹp cuối năm tăng cao.</p>,\n",
       " <p>Hơn nữa, việc giá vàng miếng SJC cách biệt quá lớn với thế giới cũng thúc đẩy nhà đầu tư chọn mua vàng nhẫn vì lo ngại rủi ro lao dốc đột ngột của vàng miếng.</p>,\n",
       " <p>Trong khi đó, giá vàng miếng hôm nay cũng tăng mạnh. Sau khi tăng 300 nghìn đồng vào buổi sáng, giá vàng miếng của SJC đã quay đầu giảm 100 nghìn đồng vào buổi chiều. </p>,\n",
       " <p>Kết phiên hôm nay, giá vàng miếng của SJC tăng 200 nghìn đồng/lượng so với hôm qua, niêm yết tại thị trường Hà Nội ở mức 66,7-67,72 triệu/lượng (mua vào - bán ra). Còn giá vàng miếng của Doji giao dịch tại Hà Nội chốt phiên hôm nay ở mức 66,7 triệu/lượng (mua vào) và 67,7 triệu/lượng, tăng 300 nghìn đồng/lượng so với hôm qua.</p>,\n",
       " <p>Dù có hàm lượng vàng như nhau nhưng giá nhẫn tròn trơn hiện vẫn thấp hơn giá vàng miếng SJC tới 12,9 triệu đồng/lượng ở chiều mua và thấp hơn 12,92 triệu đồng/lượng ở chiều bán.</p>,\n",
       " <p>Giá vàng thế giới hôm nay cũng tăng cao. Vào lúc 17h40' ngày 15/11 (giờ Việt Nam), giá vàng giao ngay ở mốc 1.775,6 USD/ounce.</p>,\n",
       " <p>Vàng thế giới theo tỷ giá hiện hành tại Vietcombank là gần 53,22 triệu đồng/lượng (chưa tính thuế, phí). Chênh lệch giữa giá vàng miếng của SJC với giá vàng quốc tế còn 14,5 triệu đồng/lượng.</p>]"
      ]
     },
     "execution_count": 31,
     "metadata": {},
     "output_type": "execute_result"
    }
   ],
   "source": [
    "html = df.iloc[2][-1]\n",
    "soup = BeautifulSoup(html, 'html.parser')\n",
    "soup.find_all('p')"
   ]
  },
  {
   "cell_type": "code",
   "execution_count": 24,
   "metadata": {},
   "outputs": [
    {
     "data": {
      "text/plain": [
       "'<div>\\r\\n                                <p>Theo <em>Bloomberg</em>, cổ phiếu công ty kinh doanh trực tuyến ô tô cũ Carvana đã giảm mạnh 42%, xuống còn 8,37 USD phiên ngày 4/11. Nhà phân tích của Morgan Stanley dự báo, cổ phiếu này có thể giảm về 1 USD. Cổ phiếu Carvana từng\\xa0được giao dịch cao nhất tới 376,83 USD.</p>\\r\\n<p>Theo số liệu của Bloomberg, tài sản Ernie Garcia III, giám đốc điều hành của Carvana còn 267 triệu USD (4/11), giảm 7 lần sau so với thời điểm trở thành tỷ phú.</p>\\r\\n<p>Cha của ông, Ernie Garcia II, một cổ đông lớn của công ty, đã chứng kiến \\u200b\\u200bgiá trị tài sản ròng của ông giảm 77% xuống còn 3,4 tỷ USD kể từ đầu năm nay.\\xa0</p>\\r\\n<p>Hai cha con Ernie nắm giữ khoảng 4/5 quyền kiểm soát biểu quyết trong công ty.</p>\\r\\n<p>Garcias nằm trong số những tỷ phú phất lên từ Covid nhưng cũng mất tài sản nhanh. Mô hình kinh doanh của Carvana, dựa vào việc mua và bán ô tô trên nền tảng thương mại điện tử, hưởng lợi từ đại dịch, khi nhu cầu mua xe cũ tăng cao.</p>\\r\\n<figure class=\"image vnn-content-image\"><img src=\"https://static-images.vnncdn.net/files/publish/2022/11/15/ernest-garcia-ii-1131.jpg\">\\r\\n<figcaption>Tỷ phú ô tô Ernie Garcia II. (Ảnh: Forbes)</figcaption>\\r\\n</figure>\\r\\n<p>Theo báo cáo kết quả kinh doanh quý III, công ty lỗ ròng lên tới 508 triệu USD, nâng mức lỗ 9 tháng đầu năm lên 1,45 tỷ USD.</p>\\r\\n<p>Doanh thu của công ty trong quý vừa qua giảm 3% so với cùng kỳ năm ngoái, xuống còn 3,4 tỷ USD và tổng số xe bán cũng giảm 8%, xuống còn 102.570 chiếc.</p>\\r\\n<figure class=\"image vnn-content-image\"><img src=\"https://static-images.vnncdn.net/files/publish/2022/11/15/kinh-doanh-xe-1132.jpg\">\\r\\n<figcaption>Nền tảng mua bán xe hơi cũ Carvana gặp khó khăn. (Ảnh: Forbes)</figcaption>\\r\\n</figure>\\r\\n<p>Carvana giải trình, hoạt động kinh doanh sa sút là do môi trường lãi suất cao cộng với giá xe cũ vẫn còn ở mức cao, khiến nhu cầu của khách hàng suy giảm.</p>\\r\\n<p>Ernie Garcia III, Giám đốc điều hành Carvana, nhận định, năm tới kinh doanh khó khăn đối với công ty do nhu cầu xe cũ đã bình thường hóa và lãi suất tăng.</p>\\r\\n<p>Năm ngoái, công ty đã bán được 400.000 xe, gấp đôi so với năm 2019 do tình trạng thiếu chip và các linh kiện khác dẫn đến nguồn xe mới khan hiếm, đẩy nhu cầu xe cũ tăng vọt.</p>\\r\\n<article class=\"ck-cms-wiki-news-full vnn-template-noneditable\"><a href=\"/tai-san-ba-ong-chu-shopee-boc-hoi-hon-32-ty-usd-2080443.html\" class=\"summary__image\"><img src=\"https://static-images.vnncdn.net/files/publish/2022/11/14/forrest-li-feature-v1-816.jpg\" alt=\"\"></a>\\r\\n<div class=\"summary__content\"><a class=\"summary__content-title\" href=\"/tai-san-ba-ong-chu-shopee-boc-hoi-hon-32-ty-usd-2080443.html\">Tài sản ba ông chủ Shopee \\'bay\\' hơn 32 tỷ USD</a><span class=\"summary__content-desc\">Ba lãnh đạo của Shopee mất hơn 32 tỷ USD chỉ trong 1 năm sau khi cổ phiếu giảm 87% so với mức đỉnh.</span></div>\\r\\n</article>\\r\\n                            </div>'"
      ]
     },
     "execution_count": 24,
     "metadata": {},
     "output_type": "execute_result"
    }
   ],
   "source": [
    "html"
   ]
  },
  {
   "cell_type": "code",
   "execution_count": 39,
   "metadata": {},
   "outputs": [
    {
     "data": {
      "text/plain": [
       "'Tổng thống Ukraine Volodymyr Zelensky (Ảnh: AFP).'"
      ]
     },
     "execution_count": 39,
     "metadata": {},
     "output_type": "execute_result"
    }
   ],
   "source": [
    "soup.find_all('p')[0].text"
   ]
  },
  {
   "cell_type": "code",
   "execution_count": 55,
   "metadata": {},
   "outputs": [],
   "source": [
    "def remove_parentheses(text):\n",
    "\n",
    "    text = re.sub(r'[()]', '', text)\n",
    "    return text.strip()"
   ]
  },
  {
   "cell_type": "code",
   "execution_count": 57,
   "metadata": {},
   "outputs": [
    {
     "data": {
      "text/plain": [
       "['(Ảnh: AFP)']"
      ]
     },
     "execution_count": 57,
     "metadata": {},
     "output_type": "execute_result"
    }
   ],
   "source": [
    "re.findall(r'\\([^)]*\\)', soup.find_all('p')[0].text)"
   ]
  },
  {
   "cell_type": "code",
   "execution_count": 60,
   "metadata": {},
   "outputs": [
    {
     "data": {
      "text/plain": [
       "'\"Chúng ta đang từng bước tiến đến đất nước của chúng ta, tất cả những vùng lãnh thổ bị kiểm soát tạm thời… Chúng ta đang tiến về phía trước, sẵn sàng cho hòa bình. Tuy nhiên, hòa bình phải là hòa bình cho cả đất nước, tất cả lãnh thổ của chúng ta\", Guardian dẫn lời Tổng thống Ukraine Volodymyr Zelensky phát biểu trước các binh sĩ nhân chuyến thăm Kherson ngày 14/11. Chuyến thăm của ông Zelensky diễn ra không lâu sau khi Nga rút quân khỏi thành phố Kherson, đưa lực lượng sang phòng thủ ở bờ đông sông Dnipro. Giới chức phương Tây đánh giá đây là bước lùi lớn của Nga sau hơn nửa năm kiểm soát vùng đất chiến lược này. Nhà lãnh đạo Ukraine tin tưởng rằng, động thái rút quân của Nga có thể xem là \"khởi đầu chấm dứt xung đột\". Ông cũng dành lời cảm ơn NATO và các đồng minh, đối tác khác đã hỗ trợ Ukraine trong thời gian chiến sự. Nga giành quyền kiểm soát hầu hết tỉnh Kherson ở miền Nam Ukraine từ tháng 3 năm nay. Moscow đã bổ nhiệm chính quyền mới tại Kherson và chính thức tuyên bố sáp nhập tỉnh này hồi tháng trước sau cuộc trưng cầu dân ý gây tranh cãi. Phía Nga cho biết, việc rút quân nhằm đảm bảo tính mạng cho binh sĩ và dân thường trước nguy cơ các cuộc phản công không kiểm soát của Ukraine. Điện Kremlin cũng khẳng định, điều này không ảnh hưởng đến tình trạng pháp lý của Kherson, nói cách khác là việc Kherson đã trở thành \"một phần lãnh thổ Nga\". Phản ứng về chuyến thăm Kherson của ông Zelensky, người phát ngôn Điện Kremlin Dmitry Peskov nói: \"Miễn bàn luận. Đây là lãnh thổ của Nga\". Chiến sự Nga - Ukraine đã bước sang tháng thứ 9, song chưa có dấu hiệu hạ nhiệt dù hai bên nhiều lần đưa ra tín hiệu sẵn sàng đàm phán. Bộ Ngoại giao Nga hôm nay tuyên bố, Moscow không chấp nhận các điều khoản trước đó liên quan đến Ukraine, đặc biệt yêu cầu rút quân khỏi nước này. \"Những điều kiện như vậy là không thể chấp nhận được. Tổng thống của chúng tôi đã nói nhiều lần rằng chúng tôi sẵn sàng đàm phán nhưng họ cần xét đến tình hình thực địa\", Thứ trưởng Ngoại giao Nga Alexander Grushko nói. Tổng thống Nga Vladimir Putin mới đây nhấn mạnh, Moscow sẵn sàng chờ cho đến khi Kiev chấp nhận đàm phán, nhưng khi đó các điều kiện kèm theo cũng thay đổi tùy theo tình hình. Nêu quan điểm về hòa đàm, Tổng thư ký NATO Jens Stoltenberg hôm nay nêu rõ, Ukraine có quyền quyết định các điều khoản đàm phán có thể chấp nhận được nhằm chấm dứt xung đột. Ông cũng khẳng định, NATO luôn ủng hộ Ukraine. Đại diện cấp cao phụ trách chính sách đối ngoại của Liên minh châu Âu Josep Borrell cũng có chung quan điểm này khi cho rằng Kiev có toàn quyền quyết định khi nào đàm phán và đàm phán như thế nào với Nga. \"Ukraine sẽ quyết định cần làm gì. Sứ mệnh của chúng tôi là hỗ trợ họ\", ông Borell nói.'"
      ]
     },
     "execution_count": 60,
     "metadata": {},
     "output_type": "execute_result"
    }
   ],
   "source": [
    "x = [text.text for text in soup.find_all('p') if '(Ảnh: ' not in text.text]\n",
    "''.join([text + ' ' if text[-1] == '.' else text + '. ' for text in x]).strip()"
   ]
  },
  {
   "cell_type": "code",
   "execution_count": 56,
   "metadata": {},
   "outputs": [
    {
     "data": {
      "text/plain": [
       "'Tổng thống Ukraine Volodymyr Zelensky Ảnh: AFP.'"
      ]
     },
     "execution_count": 56,
     "metadata": {},
     "output_type": "execute_result"
    }
   ],
   "source": [
    "\n",
    "def extract_content(self, content_html):\n",
    "    soup = BeautifulSoup(content_html, 'html.parser')\n",
    "    return ''.join([text.text + ' ' if text.text[-1] == '.' else text.text + '. ' for text in soup.find_all('p') ]).strip()\n"
   ]
  },
  {
   "cell_type": "code",
   "execution_count": 38,
   "metadata": {},
   "outputs": [
    {
     "data": {
      "text/plain": [
       "'Tổng thống Ukraine Volodymyr Zelensky (Ảnh: AFP). \"Chúng ta đang từng bước tiến đến đất nước của chúng ta, tất cả những vùng lãnh thổ bị kiểm soát tạm thời… Chúng ta đang tiến về phía trước, sẵn sàng cho hòa bình. Tuy nhiên, hòa bình phải là hòa bình cho cả đất nước, tất cả lãnh thổ của chúng ta\", Guardian dẫn lời Tổng thống Ukraine Volodymyr Zelensky phát biểu trước các binh sĩ nhân chuyến thăm Kherson ngày 14/11. Chuyến thăm của ông Zelensky diễn ra không lâu sau khi Nga rút quân khỏi thành phố Kherson, đưa lực lượng sang phòng thủ ở bờ đông sông Dnipro. Giới chức phương Tây đánh giá đây là bước lùi lớn của Nga sau hơn nửa năm kiểm soát vùng đất chiến lược này. Nhà lãnh đạo Ukraine tin tưởng rằng, động thái rút quân của Nga có thể xem là \"khởi đầu chấm dứt xung đột\". Ông cũng dành lời cảm ơn NATO và các đồng minh, đối tác khác đã hỗ trợ Ukraine trong thời gian chiến sự. Nga giành quyền kiểm soát hầu hết tỉnh Kherson ở miền Nam Ukraine từ tháng 3 năm nay. Moscow đã bổ nhiệm chính quyền mới tại Kherson và chính thức tuyên bố sáp nhập tỉnh này hồi tháng trước sau cuộc trưng cầu dân ý gây tranh cãi. Phía Nga cho biết, việc rút quân nhằm đảm bảo tính mạng cho binh sĩ và dân thường trước nguy cơ các cuộc phản công không kiểm soát của Ukraine. Điện Kremlin cũng khẳng định, điều này không ảnh hưởng đến tình trạng pháp lý của Kherson, nói cách khác là việc Kherson đã trở thành \"một phần lãnh thổ Nga\". Phản ứng về chuyến thăm Kherson của ông Zelensky, người phát ngôn Điện Kremlin Dmitry Peskov nói: \"Miễn bàn luận. Đây là lãnh thổ của Nga\". Chiến sự Nga - Ukraine đã bước sang tháng thứ 9, song chưa có dấu hiệu hạ nhiệt dù hai bên nhiều lần đưa ra tín hiệu sẵn sàng đàm phán. Bộ Ngoại giao Nga hôm nay tuyên bố, Moscow không chấp nhận các điều khoản trước đó liên quan đến Ukraine, đặc biệt yêu cầu rút quân khỏi nước này. \"Những điều kiện như vậy là không thể chấp nhận được. Tổng thống của chúng tôi đã nói nhiều lần rằng chúng tôi sẵn sàng đàm phán nhưng họ cần xét đến tình hình thực địa\", Thứ trưởng Ngoại giao Nga Alexander Grushko nói. Tổng thống Nga Vladimir Putin mới đây nhấn mạnh, Moscow sẵn sàng chờ cho đến khi Kiev chấp nhận đàm phán, nhưng khi đó các điều kiện kèm theo cũng thay đổi tùy theo tình hình. Nêu quan điểm về hòa đàm, Tổng thư ký NATO Jens Stoltenberg hôm nay nêu rõ, Ukraine có quyền quyết định các điều khoản đàm phán có thể chấp nhận được nhằm chấm dứt xung đột. Ông cũng khẳng định, NATO luôn ủng hộ Ukraine. Đại diện cấp cao phụ trách chính sách đối ngoại của Liên minh châu Âu Josep Borrell cũng có chung quan điểm này khi cho rằng Kiev có toàn quyền quyết định khi nào đàm phán và đàm phán như thế nào với Nga. \"Ukraine sẽ quyết định cần làm gì. Sứ mệnh của chúng tôi là hỗ trợ họ\", ông Borell nói.'"
      ]
     },
     "execution_count": 38,
     "metadata": {},
     "output_type": "execute_result"
    }
   ],
   "source": [
    "''.join([text.text + ' ' if text.text[-1] == '.' else text.text + '. ' for text in soup.find_all('p') ]).strip()"
   ]
  },
  {
   "cell_type": "code",
   "execution_count": 32,
   "metadata": {},
   "outputs": [
    {
     "data": {
      "text/plain": [
       "'.'"
      ]
     },
     "execution_count": 32,
     "metadata": {},
     "output_type": "execute_result"
    }
   ],
   "source": [
    "soup.find_all('p')[0].text[-1]"
   ]
  }
 ],
 "metadata": {
  "kernelspec": {
   "display_name": "Python 3.9.7 ('base')",
   "language": "python",
   "name": "python3"
  },
  "language_info": {
   "codemirror_mode": {
    "name": "ipython",
    "version": 3
   },
   "file_extension": ".py",
   "mimetype": "text/x-python",
   "name": "python",
   "nbconvert_exporter": "python",
   "pygments_lexer": "ipython3",
   "version": "3.9.7"
  },
  "orig_nbformat": 4,
  "vscode": {
   "interpreter": {
    "hash": "912d28ab1b4c46b87da535a52206a853e4dd999df3320354e6e4716ab4c87ee6"
   }
  }
 },
 "nbformat": 4,
 "nbformat_minor": 2
}
